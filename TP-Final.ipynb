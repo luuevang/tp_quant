{
 "cells": [
  {
   "cell_type": "markdown",
   "metadata": {},
   "source": [
    "PROBABILIDAD DE DEFAULT DE LOS TITULOS ARGENTINOS"
   ]
  },
  {
   "cell_type": "code",
   "execution_count": 1,
   "metadata": {},
   "outputs": [],
   "source": [
    "#Importo librerias (e instalo alguna si hace falta)\n",
    "#pip install yfinance\n",
    "import pandas as pd\n",
    "import numpy as np\n",
    "import matplotlib.pyplot as plt\n",
    "import yfinance as yf\n",
    "import seaborn as sns\n",
    "import scipy.stats as scs\n",
    "import statsmodels.api as sm\n",
    "import scipy.optimize as sco"
   ]
  },
  {
   "cell_type": "code",
   "execution_count": 3,
   "metadata": {},
   "outputs": [],
   "source": [
    "#Import the cash flows of the national bond AL30\n",
    "excel = 'C:/Users/juana/OneDrive/UCEMA/Quant - Finanzas Cuantitativas/TP Final/AL30/AL30.xlsx'\n",
    "sheet = 'FF'\n",
    "df = pd.read_excel(excel, sheet_name=sheet, index_col='Fecha Pago')\n",
    "df.index = pd.to_datetime(df.index)\n",
    "\n",
    "#Import the prices of each day\n",
    "excel = 'C:/Users/juana/OneDrive/UCEMA/Quant - Finanzas Cuantitativas/TP Final/AL30/AL30.xlsx'\n",
    "sheet = 'PRICES'\n",
    "prices = pd.read_excel(excel, sheet_name=sheet, index_col='date')\n",
    "prices.index = pd.to_datetime(prices.index)"
   ]
  },
  {
   "cell_type": "code",
   "execution_count": 4,
   "metadata": {},
   "outputs": [],
   "source": [
    "#Supuestos Iniciales\n",
    "#Recovery Rate\n",
    "RR = 0.4\n",
    "#Estructura Temporal de Tasas de Interés\n",
    "#ETTI = {'Days': range(1,10000), 'Rate': 0.4469}\n",
    "ETTI = {'Days': range(1,10000), 'Rate': 0.04}\n",
    "ETTI = pd.DataFrame(ETTI)\n",
    "ETTI = ETTI.set_index('Days')"
   ]
  },
  {
   "cell_type": "code",
   "execution_count": 5,
   "metadata": {},
   "outputs": [],
   "source": [
    "#Creo función para calcular los precios del AL30 según cada curva de tasas\n",
    "def NPV(cf, date, rates):\n",
    "    date = pd.to_datetime(date)\n",
    "    cf2 = cf.loc[df.index > date, ['A+R']]\n",
    "    cf2['Days to payment'] = (cf2.index - date).days\n",
    "    cf2['Risk Free Rate'] = cf2['Days to payment'].map(rates['Rate'])\n",
    "    cf2['Present Value Factor'] = (1 + cf2['Risk Free Rate'] )**-(cf2['Days to payment']/365)\n",
    "    cf2['Cash Flow Present Value'] = cf2['A+R'] * cf2['Present Value Factor']\n",
    "    price = sum(cf2['Cash Flow Present Value'])\n",
    "    return price\n"
   ]
  },
  {
   "cell_type": "code",
   "execution_count": 6,
   "metadata": {},
   "outputs": [
    {
     "name": "stderr",
     "output_type": "stream",
     "text": [
      "C:\\Users\\juana\\AppData\\Local\\Temp\\ipykernel_18724\\1157888772.py:3: UserWarning: Parsing dates in %d-%m-%Y format when dayfirst=False (the default) was specified. Pass `dayfirst=True` or specify a format to silence this warning.\n",
      "  date = pd.to_datetime(date)\n"
     ]
    },
    {
     "data": {
      "text/plain": [
       "89.42889874352463"
      ]
     },
     "execution_count": 6,
     "metadata": {},
     "output_type": "execute_result"
    }
   ],
   "source": [
    "NPV(df, '19-9-2023', ETTI )"
   ]
  },
  {
   "cell_type": "code",
   "execution_count": 8,
   "metadata": {},
   "outputs": [
    {
     "name": "stderr",
     "output_type": "stream",
     "text": [
      "C:\\Users\\juana\\AppData\\Local\\Temp\\ipykernel_18724\\2775376515.py:16: UserWarning: Parsing dates in %d-%m-%Y format when dayfirst=False (the default) was specified. Pass `dayfirst=True` or specify a format to silence this warning.\n",
      "  LossPV(df, pd.to_datetime('19-9-2023'), ETTI )\n"
     ]
    },
    {
     "data": {
      "text/plain": [
       "408.660840582522"
      ]
     },
     "execution_count": 8,
     "metadata": {},
     "output_type": "execute_result"
    }
   ],
   "source": [
    "#Armo función para calcular el valor actual de la pérdida esperada a cada fecha\n",
    "def LossPV(cf, date, rates):\n",
    "    date = pd.to_datetime(date)\n",
    "    cf2 = cf.loc[df.index > date, ['VR','A+R']]\n",
    "    cf2['Risk Free Price'] = [NPV(df, dates, rates) + cupon['A+R'] for dates, cupon in cf2.iterrows()]\n",
    "    cf2['Recovery'] = cf2['VR'] * RR\n",
    "    cf2['Default Loss'] = cf2['Risk Free Price'] - cf2['Recovery']\n",
    "    cf2['Days to payment'] = (cf2.index - date).days\n",
    "    cf2['Risk Free Rate'] = cf2['Days to payment'].map(ETTI['Rate'])\n",
    "    cf2['Present Value Factor'] = (1 + cf2['Risk Free Rate'] )**-(cf2['Days to payment']/365)\n",
    "    cf2['Present Value of Default Loss'] = cf2['Present Value Factor'] * cf2['Default Loss']\n",
    "    PVDL = sum(cf2['Present Value of Default Loss'])\n",
    "    return PVDL\n",
    "\n",
    "\n",
    "LossPV(df, pd.to_datetime('19-9-2023'), ETTI )\n"
   ]
  },
  {
   "cell_type": "code",
   "execution_count": 9,
   "metadata": {},
   "outputs": [
    {
     "data": {
      "text/html": [
       "<div>\n",
       "<style scoped>\n",
       "    .dataframe tbody tr th:only-of-type {\n",
       "        vertical-align: middle;\n",
       "    }\n",
       "\n",
       "    .dataframe tbody tr th {\n",
       "        vertical-align: top;\n",
       "    }\n",
       "\n",
       "    .dataframe thead th {\n",
       "        text-align: right;\n",
       "    }\n",
       "</style>\n",
       "<table border=\"1\" class=\"dataframe\">\n",
       "  <thead>\n",
       "    <tr style=\"text-align: right;\">\n",
       "      <th></th>\n",
       "      <th>close</th>\n",
       "      <th>Risk Free Value</th>\n",
       "      <th>Credit Spread</th>\n",
       "      <th>Present Value of Default Loss</th>\n",
       "      <th>Default Probability</th>\n",
       "    </tr>\n",
       "    <tr>\n",
       "      <th>date</th>\n",
       "      <th></th>\n",
       "      <th></th>\n",
       "      <th></th>\n",
       "      <th></th>\n",
       "      <th></th>\n",
       "    </tr>\n",
       "  </thead>\n",
       "  <tbody>\n",
       "    <tr>\n",
       "      <th>2020-09-14</th>\n",
       "      <td>51.870</td>\n",
       "      <td>80.623681</td>\n",
       "      <td>28.753681</td>\n",
       "      <td>577.539845</td>\n",
       "      <td>0.099573</td>\n",
       "    </tr>\n",
       "    <tr>\n",
       "      <th>2020-09-15</th>\n",
       "      <td>51.080</td>\n",
       "      <td>80.632345</td>\n",
       "      <td>29.552345</td>\n",
       "      <td>577.601908</td>\n",
       "      <td>0.102328</td>\n",
       "    </tr>\n",
       "    <tr>\n",
       "      <th>2020-09-16</th>\n",
       "      <td>47.960</td>\n",
       "      <td>80.641010</td>\n",
       "      <td>32.681010</td>\n",
       "      <td>577.663977</td>\n",
       "      <td>0.113149</td>\n",
       "    </tr>\n",
       "    <tr>\n",
       "      <th>2020-09-17</th>\n",
       "      <td>46.900</td>\n",
       "      <td>80.649675</td>\n",
       "      <td>33.749675</td>\n",
       "      <td>577.726052</td>\n",
       "      <td>0.116836</td>\n",
       "    </tr>\n",
       "    <tr>\n",
       "      <th>2020-09-18</th>\n",
       "      <td>47.100</td>\n",
       "      <td>80.658342</td>\n",
       "      <td>33.558342</td>\n",
       "      <td>577.788135</td>\n",
       "      <td>0.116161</td>\n",
       "    </tr>\n",
       "    <tr>\n",
       "      <th>...</th>\n",
       "      <td>...</td>\n",
       "      <td>...</td>\n",
       "      <td>...</td>\n",
       "      <td>...</td>\n",
       "      <td>...</td>\n",
       "    </tr>\n",
       "    <tr>\n",
       "      <th>2023-09-20</th>\n",
       "      <td>30.140</td>\n",
       "      <td>89.438509</td>\n",
       "      <td>59.298509</td>\n",
       "      <td>408.704755</td>\n",
       "      <td>0.290178</td>\n",
       "    </tr>\n",
       "    <tr>\n",
       "      <th>2023-09-21</th>\n",
       "      <td>29.400</td>\n",
       "      <td>89.448120</td>\n",
       "      <td>60.048120</td>\n",
       "      <td>408.748675</td>\n",
       "      <td>0.293814</td>\n",
       "    </tr>\n",
       "    <tr>\n",
       "      <th>2023-09-22</th>\n",
       "      <td>29.390</td>\n",
       "      <td>89.457732</td>\n",
       "      <td>60.067732</td>\n",
       "      <td>408.792599</td>\n",
       "      <td>0.293879</td>\n",
       "    </tr>\n",
       "    <tr>\n",
       "      <th>2023-09-25</th>\n",
       "      <td>29.893</td>\n",
       "      <td>89.486574</td>\n",
       "      <td>59.593574</td>\n",
       "      <td>408.924399</td>\n",
       "      <td>0.291465</td>\n",
       "    </tr>\n",
       "    <tr>\n",
       "      <th>2023-09-26</th>\n",
       "      <td>30.380</td>\n",
       "      <td>89.496191</td>\n",
       "      <td>59.116191</td>\n",
       "      <td>408.968342</td>\n",
       "      <td>0.289099</td>\n",
       "    </tr>\n",
       "  </tbody>\n",
       "</table>\n",
       "<p>741 rows × 5 columns</p>\n",
       "</div>"
      ],
      "text/plain": [
       "             close  Risk Free Value  Credit Spread  \\\n",
       "date                                                 \n",
       "2020-09-14  51.870        80.623681      28.753681   \n",
       "2020-09-15  51.080        80.632345      29.552345   \n",
       "2020-09-16  47.960        80.641010      32.681010   \n",
       "2020-09-17  46.900        80.649675      33.749675   \n",
       "2020-09-18  47.100        80.658342      33.558342   \n",
       "...            ...              ...            ...   \n",
       "2023-09-20  30.140        89.438509      59.298509   \n",
       "2023-09-21  29.400        89.448120      60.048120   \n",
       "2023-09-22  29.390        89.457732      60.067732   \n",
       "2023-09-25  29.893        89.486574      59.593574   \n",
       "2023-09-26  30.380        89.496191      59.116191   \n",
       "\n",
       "            Present Value of Default Loss  Default Probability  \n",
       "date                                                            \n",
       "2020-09-14                     577.539845             0.099573  \n",
       "2020-09-15                     577.601908             0.102328  \n",
       "2020-09-16                     577.663977             0.113149  \n",
       "2020-09-17                     577.726052             0.116836  \n",
       "2020-09-18                     577.788135             0.116161  \n",
       "...                                   ...                  ...  \n",
       "2023-09-20                     408.704755             0.290178  \n",
       "2023-09-21                     408.748675             0.293814  \n",
       "2023-09-22                     408.792599             0.293879  \n",
       "2023-09-25                     408.924399             0.291465  \n",
       "2023-09-26                     408.968342             0.289099  \n",
       "\n",
       "[741 rows x 5 columns]"
      ]
     },
     "execution_count": 9,
     "metadata": {},
     "output_type": "execute_result"
    }
   ],
   "source": [
    "# Armo un data Frame donde voy a ir colocando cada uno de las columnas para el \n",
    "#cálculo de las probabilidades\n",
    "\n",
    "summary = prices\n",
    "summary['Risk Free Value'] = [NPV(df, dates, ETTI) for dates, prices in summary.iterrows()]\n",
    "summary['Credit Spread'] = summary['Risk Free Value'] - summary['close'] \n",
    "summary['Present Value of Default Loss'] = [LossPV(df, dates, ETTI) for dates, prices in summary.iterrows()]\n",
    "summary['Default Probability'] = summary['Credit Spread'] / summary['Present Value of Default Loss'] * 2  \n",
    "summary\n"
   ]
  }
 ],
 "metadata": {
  "kernelspec": {
   "display_name": "Python 3",
   "language": "python",
   "name": "python3"
  },
  "language_info": {
   "codemirror_mode": {
    "name": "ipython",
    "version": 3
   },
   "file_extension": ".py",
   "mimetype": "text/x-python",
   "name": "python",
   "nbconvert_exporter": "python",
   "pygments_lexer": "ipython3",
   "version": "3.11.5"
  },
  "orig_nbformat": 4
 },
 "nbformat": 4,
 "nbformat_minor": 2
}
